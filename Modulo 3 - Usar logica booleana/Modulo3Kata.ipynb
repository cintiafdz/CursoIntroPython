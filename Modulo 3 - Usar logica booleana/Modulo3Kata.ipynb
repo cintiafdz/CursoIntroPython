{
 "cells": [
  {
   "cell_type": "markdown",
   "metadata": {},
   "source": [
    "### Ejercicio 1"
   ]
  },
  {
   "cell_type": "code",
   "execution_count": 21,
   "metadata": {},
   "outputs": [
    {
     "name": "stdout",
     "output_type": "stream",
     "text": [
      "Advertencia, se acerca un asteroide a la Tierra.\n"
     ]
    }
   ],
   "source": [
    "asteroide_vel = 49\n",
    "# test expression / expresión de prueba\n",
    "if asteroide_vel > 25:\n",
    "    # statement to be run / instrucción a ejecutar\n",
    "    print(\"Advertencia, se acerca un asteroide a la Tierra.\")\n",
    "else:\n",
    "    print(\"El asteroide se encuentra lejos, continúen con su día normal.\")"
   ]
  },
  {
   "cell_type": "markdown",
   "metadata": {},
   "source": [
    "### Ejercicio 2"
   ]
  },
  {
   "cell_type": "code",
   "execution_count": 23,
   "metadata": {},
   "outputs": [
    {
     "name": "stdout",
     "output_type": "stream",
     "text": [
      "Continúa con tus actividades regulares.\n"
     ]
    }
   ],
   "source": [
    "asteroide_vel = 19\n",
    "if asteroide_vel > 20:\n",
    "    print(\"Busca en el cielo, ¡hay un asteroide!\")\n",
    "elif asteroide_vel == 20:\n",
    "    print(\"Busca en el cielo, ¡hay un asteroide!\")\n",
    "else:\n",
    "    print(\"Continúa con tus actividades regulares.\")\n",
    "    "
   ]
  },
  {
   "cell_type": "markdown",
   "metadata": {},
   "source": [
    "### Ejercicio 3"
   ]
  },
  {
   "cell_type": "code",
   "execution_count": 26,
   "metadata": {},
   "outputs": [
    {
     "name": "stdout",
     "output_type": "stream",
     "text": [
      "Advertencia, se acerca un asteroide a la Tierra.\n"
     ]
    }
   ],
   "source": [
    "asteroide_vel = 30\n",
    "asteroide_tam = 500\n",
    "if asteroide_vel > 25 and asteroide_tam > 25:\n",
    "    print(\"Advertencia, se acerca un asteroide a la Tierra.\")\n",
    "elif asteroide_vel >= 20: \n",
    "    print(\"Busca en el cielo, ¡hay un asteroide!\")\n",
    "else:\n",
    "    print(\"Continúa con tus actividades regulares.\")"
   ]
  }
 ],
 "metadata": {
  "interpreter": {
   "hash": "7882eb7ff61d711c74f29d090aea08fc1df71fe9f9cfb36e798d61dc490d4ede"
  },
  "kernelspec": {
   "display_name": "Python 3.10.2 64-bit",
   "language": "python",
   "name": "python3"
  },
  "language_info": {
   "codemirror_mode": {
    "name": "ipython",
    "version": 3
   },
   "file_extension": ".py",
   "mimetype": "text/x-python",
   "name": "python",
   "nbconvert_exporter": "python",
   "pygments_lexer": "ipython3",
   "version": "3.10.2"
  },
  "orig_nbformat": 4
 },
 "nbformat": 4,
 "nbformat_minor": 2
}
