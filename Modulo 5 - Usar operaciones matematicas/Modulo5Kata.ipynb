{
 "cells": [
  {
   "cell_type": "markdown",
   "metadata": {},
   "source": [
    "### Ejercicio 1"
   ]
  },
  {
   "cell_type": "code",
   "execution_count": 3,
   "metadata": {},
   "outputs": [],
   "source": [
    "distancia_tierra = 149597870\n",
    "distancia_jupiter = 778547200"
   ]
  },
  {
   "cell_type": "code",
   "execution_count": 10,
   "metadata": {},
   "outputs": [
    {
     "name": "stdout",
     "output_type": "stream",
     "text": [
      "628949330\n",
      "390810874.13143003\n"
     ]
    }
   ],
   "source": [
    "resultado_km = distancia_jupiter-distancia_tierra\n",
    "print(resultado_km)\n",
    "resultado_milla = resultado_km*0.621371\n",
    "print(resultado_milla)"
   ]
  },
  {
   "cell_type": "markdown",
   "metadata": {},
   "source": [
    "### Ejercicio 2"
   ]
  },
  {
   "cell_type": "code",
   "execution_count": 13,
   "metadata": {},
   "outputs": [],
   "source": [
    "planeta_1 = input(\"Introduce la distancia del sol que corresponde al planeta 1\")\n",
    "planeta_2 = input(\"Introduce la distancia del sol que corresponde al planeta 2\")"
   ]
  },
  {
   "cell_type": "code",
   "execution_count": 14,
   "metadata": {},
   "outputs": [],
   "source": [
    "distancia_1 = int(planeta_1)\n",
    "distancia_2 = int(planeta_2)"
   ]
  },
  {
   "cell_type": "code",
   "execution_count": 15,
   "metadata": {},
   "outputs": [
    {
     "name": "stdout",
     "output_type": "stream",
     "text": [
      "10\n",
      "6.21371\n"
     ]
    }
   ],
   "source": [
    "resultado_km = distancia_2-distancia_1\n",
    "print(resultado_km)\n",
    "resultado_milla = resultado_km*0.621371\n",
    "print(abs(resultado_milla))"
   ]
  }
 ],
 "metadata": {
  "interpreter": {
   "hash": "7882eb7ff61d711c74f29d090aea08fc1df71fe9f9cfb36e798d61dc490d4ede"
  },
  "kernelspec": {
   "display_name": "Python 3.10.2 64-bit",
   "language": "python",
   "name": "python3"
  },
  "language_info": {
   "codemirror_mode": {
    "name": "ipython",
    "version": 3
   },
   "file_extension": ".py",
   "mimetype": "text/x-python",
   "name": "python",
   "nbconvert_exporter": "python",
   "pygments_lexer": "ipython3",
   "version": "3.10.2"
  },
  "orig_nbformat": 4
 },
 "nbformat": 4,
 "nbformat_minor": 2
}
